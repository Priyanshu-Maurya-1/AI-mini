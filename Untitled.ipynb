{
 "cells": [
  {
   "cell_type": "code",
   "execution_count": 1,
   "metadata": {},
   "outputs": [],
   "source": [
    "import cv2\n",
    "import os\n",
    "import time\n",
    "import uuid"
   ]
  },
  {
   "cell_type": "code",
   "execution_count": 2,
   "metadata": {},
   "outputs": [],
   "source": [
    "path='Tenserflow/workspace/images/collectedimages'"
   ]
  },
  {
   "cell_type": "code",
   "execution_count": 3,
   "metadata": {},
   "outputs": [
    {
     "name": "stdout",
     "output_type": "stream",
     "text": [
      "15\n"
     ]
    }
   ],
   "source": [
    "labels=['hello','thanks','yes','no','love','iloveyou','goodbye','please','bathroom','play','more','where','which','what','when']\n",
    "number=25\n",
    "print(len(labels))"
   ]
  },
  {
   "cell_type": "code",
   "execution_count": 4,
   "metadata": {},
   "outputs": [
    {
     "name": "stdout",
     "output_type": "stream",
     "text": [
      "Image collection for hello\n",
      "Image collection for hello OVER\n",
      "Image collection for thanks\n",
      "Image collection for thanks OVER\n",
      "Image collection for yes\n",
      "Image collection for yes OVER\n",
      "Image collection for no\n",
      "Image collection for no OVER\n",
      "Image collection for love\n",
      "Image collection for love OVER\n",
      "Image collection for iloveyou\n",
      "Image collection for iloveyou OVER\n",
      "Image collection for goodbye\n",
      "Image collection for goodbye OVER\n",
      "Image collection for please\n",
      "Image collection for please OVER\n",
      "Image collection for bathroom\n",
      "Image collection for bathroom OVER\n",
      "Image collection for play\n",
      "Image collection for play OVER\n",
      "Image collection for more\n",
      "Image collection for more OVER\n",
      "Image collection for where\n",
      "Image collection for where OVER\n",
      "Image collection for which\n",
      "Image collection for which OVER\n",
      "Image collection for what\n",
      "Image collection for what OVER\n",
      "Image collection for when\n",
      "Image collection for when OVER\n"
     ]
    }
   ],
   "source": [
    "for label in labels:\n",
    "    !mkdir {'Tenserflow\\workspace\\images\\collectedimages\\\\'+label}\n",
    "    cap=cv2.VideoCapture(0)\n",
    "    print('Image collection for {}'.format(label))\n",
    "    time.sleep(5)\n",
    "    for imgnum in range(number):\n",
    "        ret,frame=cap.read()\n",
    "        imgname=os.path.join(path,label,label+'.'+'{}.jpg'.format(str(uuid.uuid1())))\n",
    "#         print(imgname)\n",
    "        cv2.imwrite(imgname,frame)\n",
    "        cv2.imshow('frame',frame)\n",
    "        time.sleep(1)\n",
    "        \n",
    "        if cv2.waitKey(1) & 0xFF == ord('q'):\n",
    "            break\n",
    "    cap.release()\n",
    "    print('Image collection for {}'.format(label)+' OVER')"
   ]
  },
  {
   "cell_type": "code",
   "execution_count": null,
   "metadata": {},
   "outputs": [],
   "source": []
  }
 ],
 "metadata": {
  "kernelspec": {
   "display_name": "Python 3 (ipykernel)",
   "language": "python",
   "name": "python3"
  },
  "language_info": {
   "codemirror_mode": {
    "name": "ipython",
    "version": 3
   },
   "file_extension": ".py",
   "mimetype": "text/x-python",
   "name": "python",
   "nbconvert_exporter": "python",
   "pygments_lexer": "ipython3",
   "version": "3.8.11"
  }
 },
 "nbformat": 4,
 "nbformat_minor": 4
}
